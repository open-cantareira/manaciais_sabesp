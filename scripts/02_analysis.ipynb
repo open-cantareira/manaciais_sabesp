{
 "cells": [
  {
   "cell_type": "markdown",
   "metadata": {},
   "source": [
    "<br>\n",
    "\n",
    "# Introdução"
   ]
  },
  {
   "cell_type": "code",
   "execution_count": null,
   "metadata": {},
   "outputs": [],
   "source": [
    "#!pip install plotly"
   ]
  },
  {
   "cell_type": "code",
   "execution_count": null,
   "metadata": {},
   "outputs": [],
   "source": [
    "import os\n",
    "import psycopg2\n",
    "import pandas as pd\n",
    "\n",
    "import plotly.offline as py\n",
    "import plotly.graph_objs as go\n",
    "import plotly.graph_objects as go\n",
    "\n",
    "from plotly.offline import plot\n",
    "from datetime import date, datetime, timedelta\n",
    "from dateutil.relativedelta import relativedelta"
   ]
  },
  {
   "cell_type": "code",
   "execution_count": null,
   "metadata": {},
   "outputs": [],
   "source": [
    "try:\n",
    "    from sabesp import settings\n",
    "    from dados.models import cantareira\n",
    "    from django.conf import settings\n",
    "    print('In Django:\\n{}'.format(settings.BASE_DIR))\n",
    "    in_django = True\n",
    "except Exception as e:\n",
    "    print('Not in Django\\n{}'.format(e))\n",
    "    py.init_notebook_mode(connected=True)\n",
    "    in_django = False"
   ]
  },
  {
   "cell_type": "code",
   "execution_count": null,
   "metadata": {
    "tags": [
     "remove_cell"
    ]
   },
   "outputs": [],
   "source": [
    "data_path = os.path.join('..', 'data')"
   ]
  },
  {
   "cell_type": "markdown",
   "metadata": {},
   "source": [
    "<br>\n",
    "\n",
    "# Conversão de Unidades"
   ]
  },
  {
   "cell_type": "code",
   "execution_count": null,
   "metadata": {},
   "outputs": [],
   "source": [
    "def m3s_2_hm3(m3s):\n",
    "    \"Converte m3/s em um dia (86400 segundos) para hm3\"\n",
    "    x = m3s * (24*60*60) * 0.000001\n",
    "    return x"
   ]
  },
  {
   "cell_type": "code",
   "execution_count": null,
   "metadata": {},
   "outputs": [],
   "source": [
    "def hm3_2_m3s(hm3):\n",
    "    \"Converte mhm3 para m3/s em um dia (86400 segundos)\"\n",
    "    x = hm3 / (24*60*60) / 0.000001\n",
    "    return x"
   ]
  },
  {
   "cell_type": "markdown",
   "metadata": {},
   "source": [
    "<br>\n",
    "\n",
    "# Get Middle Date"
   ]
  },
  {
   "cell_type": "code",
   "execution_count": null,
   "metadata": {},
   "outputs": [],
   "source": [
    "def get_middle_date(start_date, end_date):\n",
    "    \"\"\"\n",
    "    Pega a data do meio entre duas datas.\n",
    "    Adequado para os labels de gráficos\n",
    "    Textos inseridos em string\n",
    "    Retorno em dataetime\n",
    "    \"\"\"\n",
    "    # Get Middle Date\n",
    "    #start_date = datetime.strptime(start_date, '%Y-%m-%d').date()\n",
    "    #end_date = datetime.strptime(end_date, '%Y-%m-%d').date()\n",
    "\n",
    "    x = (end_date-start_date).days\n",
    "    x = start_date + timedelta(x/2)\n",
    "    return x"
   ]
  },
  {
   "cell_type": "code",
   "execution_count": null,
   "metadata": {
    "tags": [
     "remove_cell"
    ]
   },
   "outputs": [],
   "source": [
    "# Parameters\n",
    "start_date=date(2017, 5, 29)\n",
    "end_date=date(2020, 6, 10)\n",
    "\n",
    "# Function\n",
    "x = get_middle_date(start_date, end_date)\n",
    "x"
   ]
  },
  {
   "cell_type": "markdown",
   "metadata": {},
   "source": [
    "<br>\n",
    "\n",
    "# Lê os Dados"
   ]
  },
  {
   "cell_type": "code",
   "execution_count": null,
   "metadata": {},
   "outputs": [],
   "source": [
    "def get_df_compiled(in_django):\n",
    "    # Create blank list\n",
    "    dfs = []\n",
    "\n",
    "    # Files\n",
    "    files = [\n",
    "        'tab_Cantareira_1990.01.01__1999.12.31.csv',\n",
    "        'tab_Cantareira_2000.01.01__2009.12.31.csv',\n",
    "        'tab_Cantareira_2010.01.01__2019.12.31.csv',\n",
    "        'tab_Cantareira_2020.01.01__2020.07.14.csv',\n",
    "    ]\n",
    "\n",
    "    if in_django:\n",
    "        filepath = os.path.join(settings.BASE_DIR, 'staticfiles', 'data')\n",
    "    else:\n",
    "        filepath = os.path.join('..', 'data')\n",
    "\n",
    "    # Read all Files\n",
    "    for file in files:\n",
    "        df = pd.read_csv(\n",
    "            os.path.join(filepath, file),\n",
    "            sep=';',\n",
    "            decimal=','\n",
    "        )\n",
    "\n",
    "        df['data'] = pd.to_datetime(df['data'], format='%d/%m/%Y', errors='ignore')\n",
    "        dfs.append(df)\n",
    "\n",
    "    # Concat\n",
    "    dfs = pd.concat(dfs)\n",
    "\n",
    "    # Se no Django...\n",
    "    if in_django:\n",
    "        # Read all DB\n",
    "        query = cantareira.objects.all().values()\n",
    "\n",
    "        if query.count() > 0:\n",
    "            df = pd.DataFrame.from_records(query)\n",
    "            df['data'] = pd.to_datetime(df['data'], format='%Y-%m-%d', errors='ignore')\n",
    "\n",
    "            # Get Max value from csv files\n",
    "            max_date_csv = max(dfs['data'])\n",
    "\n",
    "            # Seleciona o deadline\n",
    "            df = df[df['data'] > max_date_csv]\n",
    "\n",
    "            # Concat\n",
    "            df = pd.concat([dfs, df])\n",
    "\n",
    "    else:\n",
    "        df = pd.concat([dfs])\n",
    "\n",
    "    # Results\n",
    "    return df.sort_values('data')"
   ]
  },
  {
   "cell_type": "code",
   "execution_count": null,
   "metadata": {
    "tags": [
     "remove_cell"
    ]
   },
   "outputs": [],
   "source": [
    "df = get_df_compiled(in_django)\n",
    "df.tail()"
   ]
  },
  {
   "cell_type": "markdown",
   "metadata": {},
   "source": [
    "<br>\n",
    "\n",
    "## Lê PostgreSQL"
   ]
  },
  {
   "cell_type": "code",
   "execution_count": null,
   "metadata": {},
   "outputs": [],
   "source": [
    "def concat_dfdb(df):\n",
    "    # Dados do Banco de Dados (Heroku)\n",
    "    host = 'ec2-34-239-241-25.compute-1.amazonaws.com'\n",
    "    database = 'da818piepcotea'\n",
    "    user = 'aohjlkbcflpjkk'\n",
    "    port = '5432'\n",
    "    password='211406869e5c3e2fe81b84ad37f45c0f5c645f4ef834271a70f3918dda00d500'\n",
    "    \n",
    "    # Conection\n",
    "    db = psycopg2.connect(\n",
    "        host=host,\n",
    "        database=database,\n",
    "        user=user,\n",
    "        password=password,\n",
    "        port=port,\n",
    "    )\n",
    "    cur = db.cursor()\n",
    "\n",
    "    # Query\n",
    "    sql = \"\"\"\n",
    "    SELECT *\n",
    "    FROM dados_cantareira\n",
    "    \"\"\"\n",
    "    cur.execute(sql)\n",
    "\n",
    "    # Transform in Dataframe\n",
    "    df_db = pd.read_sql_query(sql, db)\n",
    "\n",
    "    # Close Conection\n",
    "    db.close()\n",
    "\n",
    "    # Ajusta da Tabela\n",
    "    df_db.drop(['id'], axis=1, inplace=True, errors='ignore')\n",
    "    df_db['data'] = pd.to_datetime(df_db['data'], format='%Y-%m-%d')\n",
    "\n",
    "    # Seleciona o deadline\n",
    "    #deadline\n",
    "    #deadline = '2020-07-10'\n",
    "    #df = df[df['data'] >= deadline]\n",
    "\n",
    "    # Concat\n",
    "    df = pd.concat([df, df_db])\n",
    "\n",
    "    # Results\n",
    "    return df"
   ]
  },
  {
   "cell_type": "code",
   "execution_count": null,
   "metadata": {
    "tags": [
     "remove_cell"
    ]
   },
   "outputs": [],
   "source": [
    "df = get_df_compiled(in_django)\n",
    "df = concat_dfdb(df)\n",
    "display(df.head())\n",
    "display(df.tail())"
   ]
  },
  {
   "cell_type": "markdown",
   "metadata": {},
   "source": [
    "<br>\n",
    "\n",
    "## Salva Tabela"
   ]
  },
  {
   "cell_type": "code",
   "execution_count": null,
   "metadata": {},
   "outputs": [],
   "source": [
    "def save_df(df, data_path):\n",
    "    # Save\n",
    "    df.to_csv(\n",
    "        os.path.join(data_path, 'tab_Cantareira_compiled.csv'),\n",
    "        index=False,\n",
    "        header=True,\n",
    "        encoding='UTF-8-SIG',\n",
    "        sep=';',\n",
    "        decimal=',',\n",
    "        date_format='%d/%m/%Y'\n",
    "    )\n",
    "    return print('Tabela Salva')"
   ]
  },
  {
   "cell_type": "code",
   "execution_count": null,
   "metadata": {
    "tags": [
     "remove_cell"
    ]
   },
   "outputs": [],
   "source": [
    "#save_df(df)"
   ]
  },
  {
   "cell_type": "markdown",
   "metadata": {},
   "source": [
    "<br>\n",
    "\n",
    "# Set Periodo"
   ]
  },
  {
   "cell_type": "code",
   "execution_count": null,
   "metadata": {},
   "outputs": [],
   "source": [
    "def set_periodo(data):\n",
    "    \"\"\"\n",
    "    Define o periodo a partir de uma data qualquer, em formato texto\n",
    "    \"\"\"\n",
    "    # Definição do Período Seco\n",
    "    periodoseco_start = date(data.year, 6, 1)\n",
    "    periodoseco_end = date(data.year, 11, 30)\n",
    "\n",
    "    # Ifs\n",
    "    if data >= periodoseco_start and data <= periodoseco_end:\n",
    "        periodo = 'Período Seco'\n",
    "        days2end_periodo = (periodoseco_end - data).days\n",
    "        \n",
    "    elif data < periodoseco_start:\n",
    "        periodo = 'Período Úmido'\n",
    "        days2end_periodo = (periodoseco_start - data).days\n",
    "        \n",
    "    elif data > periodoseco_end:\n",
    "        periodo = 'Período Úmido'\n",
    "        x = periodoseco_start + relativedelta(years=1)-timedelta(1)\n",
    "        days2end_periodo = (x - data).days\n",
    "        \n",
    "    else:\n",
    "        periodo = 'Erro'\n",
    "        \n",
    "    return periodo, days2end_periodo, periodoseco_start, periodoseco_end"
   ]
  },
  {
   "cell_type": "code",
   "execution_count": null,
   "metadata": {
    "tags": [
     "remove_cell"
    ]
   },
   "outputs": [],
   "source": [
    "periodo, days2end_periodo, periodoseco_start, periodoseco_end = set_periodo(start_date)\n",
    "print(periodo)\n",
    "print(days2end_periodo)\n",
    "print(periodoseco_start)\n",
    "print(periodoseco_end)"
   ]
  },
  {
   "cell_type": "markdown",
   "metadata": {},
   "source": [
    "<br>\n",
    "\n",
    "# Set Faixas"
   ]
  },
  {
   "cell_type": "code",
   "execution_count": null,
   "metadata": {},
   "outputs": [],
   "source": [
    "def set_faixas(vol_porcentagem):\n",
    "    # Seleciona a Faixa\n",
    "    if vol_porcentagem >= 0.6:\n",
    "        faixa = 'Faixa 1 (Normal)'\n",
    "        faixa_id = 1\n",
    "    elif vol_porcentagem >= 0.4:\n",
    "        faixa = 'Faixa 2 (Atenção)'\n",
    "        faixa_id = 2\n",
    "    elif vol_porcentagem >= 0.3:\n",
    "        faixa = 'Faixa 3 (Alerta)'\n",
    "        faixa_id = 3\n",
    "    elif vol_porcentagem >= 0.2:\n",
    "        faixa = 'Faixa 4 (Restrição)'\n",
    "        faixa_id = 4\n",
    "    elif vol_porcentagem < 0.2:\n",
    "        faixa = 'Faixa 5 (Especial)'\n",
    "        faixa_id = 5\n",
    "        \n",
    "    return faixa, faixa_id"
   ]
  },
  {
   "cell_type": "code",
   "execution_count": null,
   "metadata": {},
   "outputs": [],
   "source": [
    "def get_faixas(data, df):\n",
    "    \"\"\"\n",
    "    Define o periodo a partir de uma data qualquer, em formato texto\n",
    "    \"\"\"\n",
    "\n",
    "    # Filtra Tabela\n",
    "    #df = df[df['data'] == pd.Timestamp(data)]\n",
    "    #df.loc[:, 'data' == pd.Timestamp(data)]\n",
    "    df.loc[df['data'] == pd.Timestamp(data)]\n",
    "\n",
    "    # Calcula Campo\n",
    "    df['sc_calc_volumeporcentagem'] = (\n",
    "        (df['jaguari_jacarei_volumeoperacional'] +\n",
    "        df['cachoeira_volumeoperacional'] +\n",
    "        df['atibainha_volumeoperacional'] +\n",
    "        df['paivacastro_volumeoperacional']) / \n",
    "        (\n",
    "            (df['jaguari_jacarei_volumemaximo'] +\n",
    "            df['cachoeira_volumemaximo'] +\n",
    "            df['atibainha_volumemaximo'] +\n",
    "            df['paivacastro_volumemaximo'])\n",
    "            -\n",
    "            (df['jaguari_jacarei_volumeminimo'] +\n",
    "            df['cachoeira_volumeminimo'] +\n",
    "            df['atibainha_volumeminimo'] +\n",
    "            df['paivacastro_volumeminimo'])\n",
    "    ))\n",
    "    \n",
    "    # Define o Valor\n",
    "    vol_porcentagem = df.iloc[0]['sc_calc_volumeporcentagem']\n",
    "    \n",
    "    # Set Faixas\n",
    "    faixa, faixa_id = set_faixas(vol_porcentagem)\n",
    "\n",
    "    # Round\n",
    "    vol_porcentagem = round(vol_porcentagem*100, 2)\n",
    "\n",
    "    return (\n",
    "        data.strftime('%d.%m.%Y'),\n",
    "        vol_porcentagem,\n",
    "        faixa,\n",
    "        faixa_id\n",
    "    )"
   ]
  },
  {
   "cell_type": "code",
   "execution_count": null,
   "metadata": {
    "tags": [
     "remove_cell"
    ]
   },
   "outputs": [],
   "source": [
    "df = get_df_compiled(in_django)\n",
    "df = concat_dfdb(df)\n",
    "df.head()"
   ]
  },
  {
   "cell_type": "code",
   "execution_count": null,
   "metadata": {
    "tags": [
     "remove_cell"
    ]
   },
   "outputs": [],
   "source": [
    "# Parameters\n",
    "data = date.today()-timedelta(285)\n",
    "print(data)\n",
    "\n",
    "# Results\n",
    "data_text, vol_porcentagem, faixa, faixa_id = get_faixas(data, df)\n",
    "print(data_text)\n",
    "print(vol_porcentagem)\n",
    "print(faixa)\n",
    "print(faixa_id)"
   ]
  },
  {
   "cell_type": "markdown",
   "metadata": {},
   "source": [
    "<br>\n",
    "\n",
    "# Graph Faixas"
   ]
  },
  {
   "cell_type": "code",
   "execution_count": null,
   "metadata": {},
   "outputs": [],
   "source": [
    "def get_graph_faixas(df):\n",
    "    # Filtra Tabela\n",
    "    start_date = date(2017, 5, 29)\n",
    "    df = df[df['data'] >= pd.Timestamp(start_date)].copy()\n",
    "\n",
    "    # Calcula Campo\n",
    "    df['sc_calc_volumeporcentagem'] = (\n",
    "        (df['jaguari_jacarei_volumeoperacional'] +\n",
    "        df['cachoeira_volumeoperacional'] +\n",
    "        df['atibainha_volumeoperacional'] +\n",
    "        df['paivacastro_volumeoperacional']) / \n",
    "        (\n",
    "            (df['jaguari_jacarei_volumemaximo'] +\n",
    "            df['cachoeira_volumemaximo'] +\n",
    "            df['atibainha_volumemaximo'] +\n",
    "            df['paivacastro_volumemaximo'])\n",
    "            -\n",
    "            (df['jaguari_jacarei_volumeminimo'] +\n",
    "            df['cachoeira_volumeminimo'] +\n",
    "            df['atibainha_volumeminimo'] +\n",
    "            df['paivacastro_volumeminimo'])\n",
    "    ))\n",
    "\n",
    "    # Get Middle Date\n",
    "    end_date = date.today()\n",
    "    x = get_middle_date(start_date, end_date)\n",
    "\n",
    "    # Create Graph\n",
    "    fig = go.Figure()\n",
    "\n",
    "    # Create scatter trace of data\n",
    "    fig.add_trace(\n",
    "        go.Scatter(\n",
    "            x=df['data'],\n",
    "            y=df['sc_calc_volumeporcentagem'],\n",
    "            name='V.Útil',\n",
    "            text='Volume Útil (%)',\n",
    "            # hover_name='sss',\n",
    "            line={\n",
    "                'color': '#000066',\n",
    "                #'dash': 'dash'\n",
    "            }\n",
    "        )\n",
    "    )\n",
    "    \n",
    "    # Create scatter trace of text labels\n",
    "    fig.add_trace(\n",
    "        go.Scatter(\n",
    "            x=[x, x, x, x, x],\n",
    "            y=[0.8, 0.5, 0.35, 0.25, 0.1],\n",
    "            text=['Faixa 1: Normal',\n",
    "                  'Faixa 2: Atenção',\n",
    "                  'Faixa 3: Alerta',\n",
    "                  'Faixa 4: Restrição',\n",
    "                  'Faixa 5: Especial',\n",
    "                  ],\n",
    "            mode='text',\n",
    "            showlegend=False,\n",
    "            hoverinfo='none',\n",
    "        )\n",
    "    )\n",
    "    \n",
    "    fig.add_shape(\n",
    "        dict(\n",
    "            type='rect',\n",
    "            x0=start_date,\n",
    "            y0=0.6,\n",
    "            x1=max(df['data']),\n",
    "            y1=1,\n",
    "            fillcolor='#476ab4',\n",
    "            opacity=0.5,\n",
    "            layer='below',\n",
    "            line_width=0,\n",
    "            line=dict(\n",
    "                color=\"Green\",\n",
    "                width=1\n",
    "            ),\n",
    "        ))\n",
    "\n",
    "    fig.add_shape(\n",
    "        dict(\n",
    "            type='rect',\n",
    "            x0=start_date,\n",
    "            y0=0.4,\n",
    "            x1=max(df['data']),\n",
    "            y1=0.6,\n",
    "            fillcolor='#97d4ae',\n",
    "            opacity=0.5,\n",
    "            layer='below',\n",
    "            line_width=0,\n",
    "            line=dict(\n",
    "                color='Green',\n",
    "                width=1\n",
    "            ),\n",
    "        ))\n",
    "\n",
    "    fig.add_shape(\n",
    "        dict(\n",
    "            type='rect',\n",
    "            x0=start_date,\n",
    "            y0=0.3,\n",
    "            x1=max(df['data']),\n",
    "            y1=0.4,\n",
    "            fillcolor='#f4f3ca',\n",
    "            opacity=0.5,\n",
    "            layer='below',\n",
    "            line_width=0,\n",
    "            line=dict(\n",
    "                color='Green',\n",
    "                width=1\n",
    "            ),\n",
    "        ))\n",
    "\n",
    "    fig.add_shape(\n",
    "        dict(\n",
    "            type='rect',\n",
    "            x0=start_date,\n",
    "            y0=0.2,\n",
    "            x1=max(df['data']),\n",
    "            y1=0.3,\n",
    "            fillcolor='#ffa75f',\n",
    "            opacity=0.5,\n",
    "            layer='below',\n",
    "            line_width=0,\n",
    "            line=dict(\n",
    "                color='Green',\n",
    "                width=1\n",
    "            ),\n",
    "        ))\n",
    "\n",
    "    fig.add_shape(\n",
    "        dict(\n",
    "            type='rect',\n",
    "            x0=start_date,\n",
    "            y0=0,\n",
    "            x1=max(df['data']),\n",
    "            y1=0.2,\n",
    "            fillcolor='#bd3b3b',\n",
    "            opacity=0.5,\n",
    "            layer='below',\n",
    "            line_width=0,\n",
    "            line=dict(\n",
    "                color='Green',\n",
    "                width=1\n",
    "            ),\n",
    "        ))\n",
    "\n",
    "    # Layout\n",
    "    fig.update_layout(\n",
    "        # title='Faixas de Operação',\n",
    "        yaxis={'title': 'Volume Útil (%)'},\n",
    "        # xaxis={'title': 'Data'}\n",
    "    )\n",
    "    fig.update_layout(yaxis_tickformat='%')\n",
    "    fig.update_layout(yaxis_tickformat='.2%')\n",
    "    fig.update_layout(xaxis_tickformat='%d %B<br>%Y')\n",
    "    fig.update_layout(showlegend=False)\n",
    "\n",
    "    # Results\n",
    "    plt = plot(fig, output_type='div', include_plotlyjs=False)\n",
    "    return plt, fig"
   ]
  },
  {
   "cell_type": "code",
   "execution_count": null,
   "metadata": {
    "tags": [
     "remove_cell"
    ]
   },
   "outputs": [],
   "source": [
    "df = get_df_compiled(in_django)\n",
    "df = concat_dfdb(df)\n",
    "\n",
    "plt, fig = get_graph_faixas(df)\n",
    "fig"
   ]
  },
  {
   "cell_type": "markdown",
   "metadata": {},
   "source": [
    "<br>\n",
    "\n",
    "# Graph Reservatórios"
   ]
  },
  {
   "cell_type": "code",
   "execution_count": null,
   "metadata": {},
   "outputs": [],
   "source": [
    "def get_graph_reservatorios(date_series, data_plot):\n",
    "    # Graph\n",
    "    fig = go.Figure()\n",
    "    scatter = go.Scatter(\n",
    "        x=date_series,\n",
    "        y=data_plot,\n",
    "        mode='lines',\n",
    "        name='test',\n",
    "        opacity=1,\n",
    "        marker_color='blue'\n",
    "    )\n",
    "\n",
    "    fig.add_trace(scatter)\n",
    "    plt = plot(fig, output_type='div', include_plotlyjs=False)\n",
    "    return plt, fig"
   ]
  },
  {
   "cell_type": "code",
   "execution_count": null,
   "metadata": {
    "tags": [
     "remove_cell"
    ]
   },
   "outputs": [],
   "source": [
    "df = get_df_compiled(in_django)\n",
    "df = concat_dfdb(df)\n",
    "\n",
    "plt_jj, fig_jj = get_graph_reservatorios(df['data'], df['jaguari_jacarei_nivel'])\n",
    "fig_jj"
   ]
  },
  {
   "cell_type": "markdown",
   "metadata": {},
   "source": [
    "<br>\n",
    "\n",
    "# Graph Forecast"
   ]
  },
  {
   "cell_type": "code",
   "execution_count": null,
   "metadata": {},
   "outputs": [],
   "source": [
    "def get_forecast_data(df):\n",
    "    # Soma a vazão de jusante\n",
    "    df['qjusante'] = (\n",
    "            df['jaguari_jacarei_qjusante'] +\n",
    "            df['cachoeira_qjusante'] +\n",
    "            df['atibainha_qjusante']\n",
    "    )\n",
    "\n",
    "    # Converte a vazão de jusante para hm3\n",
    "    df['hm3jusante'] = df['qjusante'].apply(m3s_2_hm3)\n",
    "\n",
    "    # Seleciona Colunas de Interesse\n",
    "    df = df[['data', 'qjusante', 'hm3jusante']].copy()\n",
    "\n",
    "    # Definição do Período Seco\n",
    "    dia = date.today().strftime('%Y-%m-%d')\n",
    "    dia = date.today()\n",
    "    periodo, days2end_periodo, periodoseco_start, periodoseco_end = set_periodo(dia)\n",
    "\n",
    "    if periodo == 'Período Seco':\n",
    "        max_date = max(df['data'])\n",
    "        df_periodoseco = df[df['data'] >= pd.Timestamp(periodoseco_start)]\n",
    "        hm3_today = sum(df_periodoseco['hm3jusante'])\n",
    "        hm3_periodoseco = 158.1\n",
    "        hm3_balance = hm3_periodoseco-hm3_today\n",
    "        hm3_forecast = hm3_balance/days2end_periodo\n",
    "        m3s_forecast = hm3_2_m3s(hm3_forecast)\n",
    "\n",
    "        # Define Parâmetros para criar uma tabela iniciando com o dia de amanhã\n",
    "        start = (date.today() + timedelta(1)).strftime('%Y-%m-%d')\n",
    "        end = periodoseco_end.strftime('%Y-%m-%d')\n",
    "        df_forecast = pd.DataFrame(pd.date_range(pd.to_datetime(start), end=pd.to_datetime(end)), columns=['data'])\n",
    "        df_forecast['qjusante'] = m3s_forecast\n",
    "        df_forecast['hm3jusante'] = hm3_forecast\n",
    "\n",
    "        # Adiciona a tabela\n",
    "        df = df.append(df_forecast, ignore_index=True)\n",
    "        df = df.sort_values('data')\n",
    "\n",
    "        # Variaveis para Exportar\n",
    "        hm3_periodoseco = round(hm3_periodoseco, 2)\n",
    "        hm3_today = round(hm3_today, 2)\n",
    "        hm3_balance = round(hm3_balance, 2)\n",
    "        hm3_forecast = round(hm3_forecast, 2)\n",
    "        m3s_forecast = round(m3s_forecast, 2)\n",
    "        max_date = max_date.strftime('%d.%m.%Y')\n",
    "\n",
    "        return (\n",
    "            df,\n",
    "            hm3_periodoseco,\n",
    "            hm3_today,\n",
    "            hm3_balance,\n",
    "            hm3_forecast,\n",
    "            m3s_forecast,\n",
    "            max_date,\n",
    "        )\n",
    "    if periodo == 'Período Úmido':\n",
    "        #TODO: Ajustar toda essa sessão sobre periodo úmido.\n",
    "        max_date = max(df['data'])\n",
    "        df_periodoseco = df[df['data'] >= pd.Timestamp(periodoseco_start)]\n",
    "        hm3_today = sum(df_periodoseco['hm3jusante'])\n",
    "        hm3_periodoseco = 158.1\n",
    "        hm3_balance = hm3_periodoseco-hm3_today\n",
    "        hm3_forecast = hm3_balance/days2end_periodo\n",
    "        m3s_forecast = hm3_2_m3s(hm3_forecast)\n",
    "\n",
    "        # Define Parâmetros para criar uma tabela iniciando com o dia de amanhã\n",
    "        start = (date.today() + timedelta(1)).strftime('%Y-%m-%d')\n",
    "        end = periodoseco_end.strftime('%Y-%m-%d')\n",
    "        df_forecast = pd.DataFrame(pd.date_range(pd.to_datetime(start), end=pd.to_datetime(end)), columns=['data'])\n",
    "        df_forecast['qjusante'] = m3s_forecast\n",
    "        df_forecast['hm3jusante'] = hm3_forecast\n",
    "\n",
    "        # Adiciona a tabela\n",
    "        df = df.append(df_forecast, ignore_index=True)\n",
    "        df = df.sort_values('data')\n",
    "\n",
    "        # Variaveis para Exportar\n",
    "        hm3_periodoseco = round(hm3_periodoseco, 2)\n",
    "        hm3_today = round(hm3_today, 2)\n",
    "        hm3_balance = round(hm3_balance, 2)\n",
    "        hm3_forecast = round(hm3_forecast, 2)\n",
    "        m3s_forecast = round(m3s_forecast, 2)\n",
    "        max_date = max_date.strftime('%d.%m.%Y')\n",
    "\n",
    "        return (\n",
    "            df,\n",
    "            hm3_periodoseco,\n",
    "            hm3_today,\n",
    "            hm3_balance,\n",
    "            hm3_forecast,\n",
    "            m3s_forecast,\n",
    "            max_date,\n",
    "        )"
   ]
  },
  {
   "cell_type": "code",
   "execution_count": null,
   "metadata": {},
   "outputs": [],
   "source": [
    "def get_graph_forecast(date_series, data_plot):\n",
    "    # Graph Forecast\n",
    "    fig = go.Figure()\n",
    "    scatter = go.Scatter(\n",
    "        x=date_series,\n",
    "        y=data_plot,\n",
    "        mode='lines',\n",
    "        name='test',\n",
    "        opacity=1,\n",
    "        marker_color='blue'\n",
    "    )\n",
    "\n",
    "    fig.add_trace(scatter)\n",
    "    plt = plot(fig, output_type='div', include_plotlyjs=False)    \n",
    "    return plt, fig"
   ]
  },
  {
   "cell_type": "code",
   "execution_count": null,
   "metadata": {
    "tags": [
     "remove_cell"
    ]
   },
   "outputs": [],
   "source": [
    "df = get_df_compiled(in_django)\n",
    "df = concat_dfdb(df)\n",
    "display(df.head())\n",
    "display(df.tail())"
   ]
  },
  {
   "cell_type": "code",
   "execution_count": null,
   "metadata": {
    "tags": [
     "remove_cell"
    ]
   },
   "outputs": [],
   "source": [
    "df, hm3_periodoseco, hm3_today, hm3_balance, hm3_forecast, m3s_forecast, max_date = get_forecast_data(df)"
   ]
  },
  {
   "cell_type": "code",
   "execution_count": null,
   "metadata": {
    "tags": [
     "remove_cell"
    ]
   },
   "outputs": [],
   "source": [
    "print(\n",
    "    'Até o dia de \"{}\" já foi vertido o equivalente \\\n",
    "    a \"{}\" hm3, restando um \"saldo\" de \"{}\" hm3 \\\n",
    "    até o final do Período Seco. Esse valor equivale a verter, de modo constante,\\\n",
    "    \"{}\" m3/s até o final do Período Seco, \\\n",
    "    ou \"{}\" hm3 por dia'.format(max_date, hm3_today, hm3_balance,m3s_forecast,hm3_forecast)\n",
    ")"
   ]
  },
  {
   "cell_type": "code",
   "execution_count": null,
   "metadata": {
    "tags": [
     "remove_cell"
    ]
   },
   "outputs": [],
   "source": [
    "plt, fig = get_graph_forecast(df['data'], df['qjusante'])\n",
    "fig"
   ]
  },
  {
   "cell_type": "code",
   "execution_count": null,
   "metadata": {},
   "outputs": [],
   "source": [
    "def get_graph_forecast(date_series, data_plot, max_date_db):\n",
    "    # Definição do Período Seco\n",
    "    periodo, days2end_periodo, periodoseco_start, periodoseco_end = set_periodo(date.today())\n",
    "\n",
    "    # Get Middle Date\n",
    "    x1 = get_middle_date(min(date_series).date(), max_date_db)\n",
    "    x2 = get_middle_date(max_date_db, periodoseco_end)\n",
    "\n",
    "    # Graph\n",
    "    fig = go.Figure()\n",
    "    fig.add_trace(\n",
    "        go.Scatter(\n",
    "            x=date_series,\n",
    "            y=data_plot,\n",
    "            mode='lines',\n",
    "            name='QJus',\n",
    "            text='m³/s',\n",
    "            showlegend=False,\n",
    "            line=dict(\n",
    "                shape='linear',\n",
    "                color='#000066',\n",
    "                width=0.8,\n",
    "            )\n",
    "        ))\n",
    "    fig.add_shape(\n",
    "        dict(\n",
    "            type='rect',\n",
    "            x0=min(date_series),\n",
    "            x1=max_date_db,\n",
    "            yref='paper',\n",
    "            y0=0,\n",
    "            y1=1,\n",
    "            fillcolor='#6ed69f',\n",
    "            opacity=0.5,\n",
    "            layer='below',\n",
    "            line_width=0,\n",
    "            line=dict(\n",
    "                color='#f4f3ca',\n",
    "                width=1\n",
    "            ),\n",
    "        )\n",
    "    )\n",
    "    fig.add_shape(\n",
    "        dict(\n",
    "            type='rect',\n",
    "            x0=max_date_db,\n",
    "            x1=periodoseco_end,\n",
    "            yref='paper',\n",
    "            y0=0,\n",
    "            y1=1,\n",
    "            fillcolor='#ecb50c',\n",
    "            opacity=0.5,\n",
    "            layer='below',\n",
    "            line_width=0,\n",
    "            line=dict(\n",
    "                color='#f4f3ca',\n",
    "                width=1\n",
    "            ),\n",
    "        )\n",
    "    )\n",
    "    fig.add_trace(\n",
    "        go.Scatter(\n",
    "            x=[x1, x2],\n",
    "            y=[10, 2],\n",
    "            text=['Passado', 'Futuro'],\n",
    "            mode='text',\n",
    "            showlegend=False,\n",
    "            hoverinfo='none',\n",
    "        ))\n",
    "    start_date = date(2017, 5, 29)\n",
    "    fig.update_layout(\n",
    "        yaxis={\n",
    "            'title': 'Vazão (m³/s)',\n",
    "            'range': [0, 14]\n",
    "        },\n",
    "        xaxis={'range': [start_date, max(date_series)]},\n",
    "        yaxis_tickformat='.2',\n",
    "        xaxis_tickformat='%d %b<br>%Y',\n",
    "        showlegend=False,\n",
    "        hovermode='x',\n",
    "    )\n",
    "    config = {'displaylogo': False}\n",
    "    plt = plot(fig, output_type='div', include_plotlyjs=False, config=config)\n",
    "    return plt, fig"
   ]
  },
  {
   "cell_type": "code",
   "execution_count": null,
   "metadata": {
    "tags": [
     "remove_cell"
    ]
   },
   "outputs": [],
   "source": [
    "print(\n",
    "    'Até o dia de \"{}\" já foi vertido o equivalente \\\n",
    "    a \"{}\" hm3, restando um \"saldo\" de \"{}\" hm3 \\\n",
    "    até o final do Período Seco. Esse valor equivale a verter, de modo constante,\\\n",
    "    \"{}\" m3/s até o final do Período Seco, \\\n",
    "    ou \"{}\" hm3 por dia'.format(max_date, hm3_today, hm3_balance,m3s_forecast,hm3_forecast)\n",
    ")"
   ]
  },
  {
   "cell_type": "code",
   "execution_count": null,
   "metadata": {
    "tags": [
     "remove_cell"
    ]
   },
   "outputs": [],
   "source": [
    "max_date_db = max(df['data']).date()\n",
    "print(max_date_db)\n",
    "\n",
    "plt, fig = get_graph_forecast(df['data'], df['qjusante'], max_date_db)\n",
    "fig"
   ]
  },
  {
   "cell_type": "markdown",
   "metadata": {},
   "source": [
    "<br>\n",
    "\n",
    "# Graph Vazões Mínimas"
   ]
  },
  {
   "cell_type": "code",
   "execution_count": null,
   "metadata": {},
   "outputs": [],
   "source": [
    "def get_qmin_data(df):\n",
    "    # Filtra Tabela\n",
    "    start_date = '2017-05-29'\n",
    "    df = df[df['data'] >= pd.Timestamp(start_date)]\n",
    "\n",
    "    # Vazão dos Cursos d'água\n",
    "    df['jaguari_qjusante'] = df['jaguari_jacarei_qjusante']\n",
    "    df['atibaia_qjusante'] = (df['cachoeira_qjusante'] + df['atibainha_qjusante'])\n",
    "    df['juqueri_qjusante'] = df['paivacastro_qjusante']\n",
    "    \n",
    "    return df"
   ]
  },
  {
   "cell_type": "code",
   "execution_count": null,
   "metadata": {},
   "outputs": [],
   "source": [
    "def get_graph_qmin(date_series, data_plot, qminima):\n",
    "    # Graph Q minima\n",
    "    fig = go.Figure()\n",
    "\n",
    "    fig.add_trace(\n",
    "        go.Scatter(\n",
    "            x=date_series,\n",
    "            y=data_plot,\n",
    "            mode='lines',\n",
    "            name='test',\n",
    "            opacity=1,\n",
    "            marker_color='blue'\n",
    "        )\n",
    "    )\n",
    "    fig.add_shape(\n",
    "        dict(\n",
    "            type='line',\n",
    "            x0=min(date_series),\n",
    "            y0=qminima,\n",
    "            x1=max(date_series),\n",
    "            y1=qminima,\n",
    "            layer='above',\n",
    "            line=dict(\n",
    "                color='Red',\n",
    "                width=2,\n",
    "                dash='dashdot',\n",
    "            ),\n",
    "        ))\n",
    "\n",
    "    # Layout\n",
    "    fig.update_layout(\n",
    "        yaxis={'title': 'Vazão (m³/s)'},\n",
    "    )\n",
    "    fig.update_layout(yaxis_tickformat='.2')\n",
    "    fig.update_layout(xaxis_tickformat='%d %B<br>%Y')\n",
    "    fig.update_layout(showlegend=False)\n",
    "\n",
    "    plt = plot(fig, output_type='div', include_plotlyjs=False)\n",
    "\n",
    "    return plt, fig"
   ]
  },
  {
   "cell_type": "code",
   "execution_count": null,
   "metadata": {
    "tags": [
     "remove_cell"
    ]
   },
   "outputs": [],
   "source": [
    "df = get_df_compiled(in_django)\n",
    "df = get_qmin_data(df)\n",
    "\n",
    "plt_jaguari, fig_jaguari = get_graph_qmin(df['data'], df['jaguari_qjusante'], qminima=0.25)\n",
    "plt_atibaia, fig_atibaia = get_graph_qmin(df['data'], df['atibaia_qjusante'], qminima=0.25)\n",
    "plt_juqueri, fig_juqueri = get_graph_qmin(df['data'], df['juqueri_qjusante'], qminima=0.1)\n",
    "#fig_jaguari\n",
    "fig_atibaia\n",
    "#fig_juqueri\n",
    "#fig_aguasclaras"
   ]
  },
  {
   "cell_type": "markdown",
   "metadata": {},
   "source": [
    "<br>\n",
    "\n",
    "# Vazões de Retirada"
   ]
  },
  {
   "cell_type": "code",
   "execution_count": null,
   "metadata": {},
   "outputs": [],
   "source": [
    "def set_limiteretirada(faixa_id):\n",
    "    # Seleciona a Faixa\n",
    "    if faixa_id == 1:\n",
    "        limite_retirada = 33\n",
    "    elif faixa_id == 2:\n",
    "        limite_retirada = 31\n",
    "    elif faixa_id == 3:\n",
    "        limite_retirada = 27\n",
    "    elif faixa_id == 4:\n",
    "        limite_retirada = 23\n",
    "    elif faixa_id == 5:\n",
    "        limite_retirada = 15.5\n",
    "        \n",
    "    return limite_retirada"
   ]
  },
  {
   "cell_type": "code",
   "execution_count": null,
   "metadata": {},
   "outputs": [],
   "source": [
    "def get_qretirada_data(df):\n",
    "    # Filtra Tabela\n",
    "    start_date = '2017-05-29'\n",
    "    df = df[df['data'] >= pd.Timestamp(start_date)]\n",
    "    \n",
    "    # Filtra Colunas\n",
    "    df = df[[\n",
    "        'data',\n",
    "        'jaguari_jacarei_volume', 'cachoeira_volume', 'atibainha_volume', 'paivacastro_volume',\n",
    "        'jaguari_jacarei_volumemaximo', 'cachoeira_volumemaximo',\n",
    "        'atibainha_volumemaximo', 'paivacastro_volumemaximo',\n",
    "        'qesi_valor', 'sc_vazaoretirada', 'sc_vazaojusante',\n",
    "    ]]       \n",
    "    \n",
    "    # Calcula Campo\n",
    "    df['sc_calc_volumeporcentagem'] = (\n",
    "        df['jaguari_jacarei_volume'] +\n",
    "        df['cachoeira_volume'] +\n",
    "        df['atibainha_volume'] +\n",
    "        df['paivacastro_volume']) / (\n",
    "        df['jaguari_jacarei_volumemaximo'] +\n",
    "        df['cachoeira_volumemaximo'] +\n",
    "        df['atibainha_volumemaximo'] +\n",
    "        df['paivacastro_volumemaximo']\n",
    "    )\n",
    "\n",
    "    df[['faixa', 'faixa_id']] = df.apply(lambda x: set_faixas(x['sc_calc_volumeporcentagem']),\n",
    "                                          axis=1, result_type='expand')\n",
    "    df['limiteretirada'] = df.apply(lambda x: set_limiteretirada(x['faixa_id']), axis=1)\n",
    "    \n",
    "    return df"
   ]
  },
  {
   "cell_type": "code",
   "execution_count": null,
   "metadata": {
    "tags": [
     "remove_cell"
    ]
   },
   "outputs": [],
   "source": [
    "df = get_df_compiled(in_django)\n",
    "df = get_qretirada_data(df)\n",
    "\n",
    "df.head(5)"
   ]
  },
  {
   "cell_type": "code",
   "execution_count": null,
   "metadata": {},
   "outputs": [],
   "source": [
    "def get_graph_qretirada(df):\n",
    "    # Graph Q minima\n",
    "    fig = go.Figure()\n",
    "\n",
    "    fig.add_trace(\n",
    "        go.Scatter(\n",
    "            x=df['data'],\n",
    "            y=df['sc_vazaoretirada'],\n",
    "            mode='lines',\n",
    "            name='Q ETA Guaraú',\n",
    "            opacity=1,\n",
    "            marker_color='blue'\n",
    "        )\n",
    "    )\n",
    "    fig.add_trace(\n",
    "        go.Scatter(\n",
    "            x=df['data'],\n",
    "            y=df['limiteretirada'],\n",
    "            mode='lines',\n",
    "            name='Limite Retirada RMSP',\n",
    "            opacity=1,\n",
    "            marker_color='black'\n",
    "        )\n",
    "    )\n",
    "    fig.add_trace(\n",
    "        go.Scatter(\n",
    "            x=df['data'],\n",
    "            y=df['qesi_valor'],\n",
    "            mode='lines',\n",
    "            name='Q ESI',\n",
    "            opacity=1,\n",
    "            marker_color='red'\n",
    "        )\n",
    "    )\n",
    "    fig.add_trace(\n",
    "        go.Scatter(\n",
    "            x=df['data'],\n",
    "            y=df['sc_vazaojusante'],\n",
    "            mode='lines',\n",
    "            name='Q Jusante',\n",
    "            opacity=1,\n",
    "            marker_color='green'\n",
    "        )\n",
    "    )\n",
    "\n",
    "    # Layout\n",
    "    fig.update_layout(\n",
    "        yaxis={'title': 'Vazão (m³/s)'},\n",
    "    )\n",
    "    #fig.update_layout(yaxis_tickformat='.2')\n",
    "    fig.update_layout(xaxis_tickformat='%d %B<br>%Y')\n",
    "    fig.update_layout(showlegend=False)\n",
    "\n",
    "    plt = plot(fig, output_type='div', include_plotlyjs=False)\n",
    "\n",
    "    return plt, fig"
   ]
  },
  {
   "cell_type": "code",
   "execution_count": null,
   "metadata": {
    "tags": [
     "remove_cell"
    ]
   },
   "outputs": [],
   "source": [
    "plt, fig = get_graph_qretirada(df)\n",
    "fig"
   ]
  },
  {
   "cell_type": "markdown",
   "metadata": {},
   "source": [
    "<br>\n",
    "\n",
    "# Outras"
   ]
  },
  {
   "cell_type": "markdown",
   "metadata": {},
   "source": [
    "<br>\n",
    "\n",
    "# Calcula Colunas"
   ]
  },
  {
   "cell_type": "code",
   "execution_count": null,
   "metadata": {
    "tags": [
     "remove_cell"
    ]
   },
   "outputs": [],
   "source": [
    "df = get_df_compiled(in_django)\n",
    "df = concat_dfdb(df)\n",
    "display(df.head())\n",
    "df.columns"
   ]
  },
  {
   "cell_type": "code",
   "execution_count": null,
   "metadata": {
    "tags": [
     "remove_cell"
    ]
   },
   "outputs": [],
   "source": [
    "df['mes'] = df['data'].dt.month\n",
    "df['ano'] = df['data'].dt.year"
   ]
  },
  {
   "cell_type": "code",
   "execution_count": null,
   "metadata": {},
   "outputs": [],
   "source": [
    "#df = df.groupby(['ano', 'mes']).mean()\n",
    "#df = df.reset_index()"
   ]
  },
  {
   "cell_type": "code",
   "execution_count": null,
   "metadata": {
    "tags": [
     "remove_cell"
    ]
   },
   "outputs": [],
   "source": [
    "# Criando gráfico\n",
    "trace = go.Scatter(\n",
    "    x=df['mes'],\n",
    "    y=df['jaguari_jacarei_volume'],\n",
    "    mode = 'lines',\n",
    "    opacity=0.8\n",
    ")\n",
    "\n",
    "# Armazenando gráfico em uma lista\n",
    "data = [trace]\n",
    "\n",
    "# Criando Layout\n",
    "layout = go.Layout(yaxis={'title':'Nível do reservatório'})\n",
    "\n",
    "# Criando figura que será exibida\n",
    "fig = go.Figure(data=data, layout=layout)\n",
    "\n",
    "# Exibindo figura/gráfico\n",
    "py.iplot(fig)"
   ]
  },
  {
   "cell_type": "code",
   "execution_count": null,
   "metadata": {
    "tags": [
     "remove_cell"
    ]
   },
   "outputs": [],
   "source": []
  },
  {
   "cell_type": "code",
   "execution_count": null,
   "metadata": {
    "tags": [
     "remove_cell"
    ]
   },
   "outputs": [],
   "source": [
    "# Criando gráfico\n",
    "trace = go.Scatter(\n",
    "    x=df['data'],\n",
    "    y=df['jaguari_jacarei_nivel'],\n",
    "    mode='lines',\n",
    "    opacity=0.8\n",
    ")\n",
    "\n",
    "# Armazenando gráfico em uma lista\n",
    "data = [trace]\n",
    "\n",
    "# Criando Layout\n",
    "layout = go.Layout(\n",
    "    title='Jaguari-Jacareí',\n",
    "    yaxis={'title':'Nível do reservatório'},\n",
    "    xaxis={'title': 'Tempo'}\n",
    ")\n",
    "\n",
    "# Criando figura que será exibida\n",
    "fig = go.Figure(data=data, layout=layout)\n",
    "\n",
    "# Exibindo figura/gráfico\n",
    "py.iplot(fig)"
   ]
  },
  {
   "cell_type": "markdown",
   "metadata": {
    "tags": [
     "remove_cell"
    ]
   },
   "source": [
    "<br>\n",
    "\n",
    "# Export"
   ]
  },
  {
   "cell_type": "code",
   "execution_count": null,
   "metadata": {
    "tags": [
     "remove_cell"
    ]
   },
   "outputs": [],
   "source": [
    "import os\n",
    "from traitlets.config import Config\n",
    "from nbconvert import PythonExporter\n",
    "from nbconvert.preprocessors import TagRemovePreprocessor"
   ]
  },
  {
   "cell_type": "code",
   "execution_count": null,
   "metadata": {
    "tags": [
     "remove_cell"
    ]
   },
   "outputs": [],
   "source": [
    "input_filename = '2_analysis.ipynb'\n",
    "input_filepath = os.path.join(os.getcwd(), input_filename)"
   ]
  },
  {
   "cell_type": "code",
   "execution_count": null,
   "metadata": {
    "tags": [
     "remove_cell"
    ]
   },
   "outputs": [],
   "source": [
    "# Import the exporter\n",
    "c = Config()\n",
    "c.TagRemovePreprocessor.enabled=True\n",
    "c.ClearOutputPreprocessor.enabled=True\n",
    "c.TemplateExporter.exclude_markdown=True\n",
    "c.TemplateExporter.exclude_code_cell=False\n",
    "c.TemplateExporter.exclude_input_prompt=True\n",
    "c.TemplateExporter.exclude_output=True\n",
    "c.TemplateExporter.exclude_raw=True\n",
    "c.TagRemovePreprocessor.remove_cell_tags = ('remove_cell',)\n",
    "c.TagRemovePreprocessor.remove_input_tags = ('remove_cell',)\n",
    "c.TagRemovePreprocessor.remove_all_outputs_tags = ('remove_output',)\n",
    "c.preprocessors = ['TagRemovePreprocessor']\n",
    "c.PythonExporter.preprocessors = ['nbconvert.preprocessors.TagRemovePreprocessor']\n",
    "\n",
    "# Configure and run out exporter\n",
    "py_exporter = PythonExporter(config=c)\n",
    "py_exporter.register_preprocessor(TagRemovePreprocessor(config=c), True)\n",
    "\n",
    "# Configure and run out exporter - returns a tuple - first element with html, second with notebook metadata\n",
    "body, metadata = PythonExporter(config=c).from_filename(input_filepath)\n",
    "\n",
    "# Write to output html file\n",
    "with open(os.path.join(os.getcwd(), '..', 'src', 'analysis.py'),  'w', encoding='utf-8') as f:\n",
    "    f.write(body)"
   ]
  },
  {
   "cell_type": "code",
   "execution_count": null,
   "metadata": {},
   "outputs": [],
   "source": []
  }
 ],
 "metadata": {
  "kernelspec": {
   "display_name": "Python [conda env:pablocarreira-py39] *",
   "language": "python",
   "name": "conda-env-pablocarreira-py39-py"
  },
  "language_info": {
   "codemirror_mode": {
    "name": "ipython",
    "version": 3
   },
   "file_extension": ".py",
   "mimetype": "text/x-python",
   "name": "python",
   "nbconvert_exporter": "python",
   "pygments_lexer": "ipython3",
   "version": "3.9.7"
  },
  "toc": {
   "base_numbering": 1,
   "nav_menu": {
    "height": "315px",
    "width": "188px"
   },
   "number_sections": true,
   "sideBar": true,
   "skip_h1_title": false,
   "title_cell": "Table of Contents",
   "title_sidebar": "Contents",
   "toc_cell": false,
   "toc_position": {
    "height": "calc(100% - 180px)",
    "left": "10px",
    "top": "150px",
    "width": "172.6px"
   },
   "toc_section_display": true,
   "toc_window_display": true
  }
 },
 "nbformat": 4,
 "nbformat_minor": 4
}
