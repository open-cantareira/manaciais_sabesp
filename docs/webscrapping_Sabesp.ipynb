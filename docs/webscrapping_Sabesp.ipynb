{
 "cells": [
  {
   "cell_type": "markdown",
   "metadata": {},
   "source": [
    "---\n",
    "layout: post\n",
    "title: API do IBGE\n",
    "subtitle: Exercícios e Referências\n",
    "tags: [python, pycharm, jupyter, package, ibge, api]\n",
    "image: /img/posts/pandas_icon.png\n",
    "bigimg: /img/posts/pandas_big.png\n",
    "gh-repo: michelmetran/api_ibge\n",
    "gh-badge: [follow, star, watch, fork]\n",
    "comments: true\n",
    "\n",
    "---"
   ]
  },
  {
   "cell_type": "markdown",
   "metadata": {},
   "source": [
    "# SABESP"
   ]
  },
  {
   "cell_type": "code",
   "execution_count": null,
   "metadata": {},
   "outputs": [],
   "source": [
    "import os\n",
    "import time\n",
    "from selenium import webdriver\n",
    "from bs4 import BeautifulSoup\n",
    "\n",
    "from selenium.webdriver.support.ui import WebDriverWait\n",
    "from selenium.webdriver.support import expected_conditions as EC\n",
    "from selenium.webdriver.common.by import By\n",
    "from selenium.webdriver.firefox.options import Options"
   ]
  },
  {
   "cell_type": "code",
   "execution_count": null,
   "metadata": {},
   "outputs": [],
   "source": [
    "# Escolhe o driver Firefox com Profile e Options\n",
    "\n",
    "driver = webdriver.FirefoxProfile()\n",
    "driver.set_preference('intl.accept_languages', 'pt-BR, pt')\n",
    "#driver.set_preference('browser.download.folderList', '2')\n",
    "#driver.set_preference('browser.download.manager.showWhenStarting', 'false')\n",
    "#driver.set_preference('browser.download.dir', 'dwnd_path')\n",
    "#driver.set_preference('browser.helperApps.neverAsk.saveToDisk', 'application/octet-stream,application/vnd.ms-excel')\n",
    "\n",
    "options = Options()\n",
    "options.headless = False\n",
    "\n",
    "driver = webdriver.Firefox(firefox_profile=driver, options=options)"
   ]
  },
  {
   "cell_type": "code",
   "execution_count": null,
   "metadata": {},
   "outputs": [],
   "source": [
    "# Cria um driver\n",
    "\n",
    "site = 'http://mananciais.sabesp.com.br/HistoricoSistemas'\n",
    "driver.get(site)"
   ]
  },
  {
   "cell_type": "markdown",
   "metadata": {},
   "source": [
    "## Escolhe o Sistema"
   ]
  },
  {
   "cell_type": "code",
   "execution_count": null,
   "metadata": {},
   "outputs": [],
   "source": [
    "#driver.find_element_by_xpath('//*[@id=\"cmbSistema\"]').click()"
   ]
  },
  {
   "cell_type": "code",
   "execution_count": null,
   "metadata": {},
   "outputs": [],
   "source": [
    "sistema = {0: 'Cantareira',\n",
    "           1: 'Alto Tietê',\n",
    "           2: 'Guarapiranga',\n",
    "           3: 'Cotia',\n",
    "           4: 'Rio Grande',\n",
    "           5: 'Rio Claro',\n",
    "           6: 'São Lourenço',}"
   ]
  },
  {
   "cell_type": "code",
   "execution_count": null,
   "metadata": {},
   "outputs": [],
   "source": [
    "#driver.find_element_by_xpath('//*[@id=\"cmbSistema\"]').send_keys(sistema[0])\n",
    "#driver.find_element_by_xpath('//*[@id=\"cmbSistema\"]').send_keys(sistema[0])\n",
    "# ToDo: Check URL"
   ]
  },
  {
   "cell_type": "markdown",
   "metadata": {},
   "source": [
    "## Cria o Objeto Soup"
   ]
  },
  {
   "cell_type": "code",
   "execution_count": null,
   "metadata": {},
   "outputs": [],
   "source": [
    "WebDriverWait(driver,10).until(EC.visibility_of_element_located((By.ID,\"contenttabledivjqxGrid\")))\n",
    "\n",
    "soup = BeautifulSoup(driver.page_source, 'html.parser')"
   ]
  },
  {
   "cell_type": "code",
   "execution_count": null,
   "metadata": {},
   "outputs": [],
   "source": [
    "print(soup.prettify())"
   ]
  },
  {
   "cell_type": "markdown",
   "metadata": {},
   "source": [
    "## Vê e Escolhe a Data"
   ]
  },
  {
   "cell_type": "markdown",
   "metadata": {},
   "source": [
    "## Cabeçalho"
   ]
  },
  {
   "cell_type": "code",
   "execution_count": null,
   "metadata": {},
   "outputs": [],
   "source": [
    "# Cabeçalho\n",
    "header = soup.find_all('div', {'class': 'jqx-grid-column-header'})\n",
    "for i in header:\n",
    "    print(i.get_text())"
   ]
  },
  {
   "cell_type": "code",
   "execution_count": null,
   "metadata": {},
   "outputs": [],
   "source": [
    "# Seleciona as relevantes\n",
    "head = []\n",
    "for i in header:\n",
    "    if i.get_text().startswith(('Represa', 'Equivalente')):\n",
    "        print('Excluído: ' + i.get_text())\n",
    "    else:\n",
    "        print(i.get_text())\n",
    "        head.append(i.get_text())\n",
    "    \n",
    "print('-'*70)\n",
    "print(head)\n",
    "print('-'*70)\n",
    "print('Número de Colunas: ' + str(len(head)))"
   ]
  },
  {
   "cell_type": "markdown",
   "metadata": {},
   "source": [
    "## Valores"
   ]
  },
  {
   "cell_type": "code",
   "execution_count": null,
   "metadata": {},
   "outputs": [],
   "source": [
    "# Valores\n",
    "data = soup.find_all('div', {'class': 'jqx-grid-cell'})\n",
    "values = []\n",
    "for i in data:\n",
    "    #print(i.get_text())\n",
    "    values.append(i.get_text())\n",
    "    \n",
    "#print(values)"
   ]
  },
  {
   "cell_type": "markdown",
   "metadata": {},
   "source": [
    "## Monta Tabela"
   ]
  },
  {
   "cell_type": "code",
   "execution_count": null,
   "metadata": {},
   "outputs": [],
   "source": [
    "import numpy as np\n",
    "import pandas as pd\n",
    "\n",
    "# Convert data to numpy array\n",
    "num = np.array(values)\n",
    "\n",
    "# Currently its shape is single dimensional\n",
    "n_rows = int(len(num)/len(head))\n",
    "n_cols = int(len(head))\n",
    "reshaped = num.reshape(n_rows, n_cols)\n",
    "\n",
    "# Construct Table\n",
    "pd.DataFrame(reshaped, columns=head)"
   ]
  },
  {
   "cell_type": "markdown",
   "metadata": {},
   "source": [
    "## Vê e Escolhe a Data"
   ]
  },
  {
   "cell_type": "code",
   "execution_count": null,
   "metadata": {},
   "outputs": [],
   "source": [
    "# Encontra a Data Selecionada\n",
    "\n",
    "data = soup.find('span', id='lblDataSelecionada')\n",
    "data_sel = data.text\n",
    "data_sel"
   ]
  },
  {
   "cell_type": "code",
   "execution_count": null,
   "metadata": {},
   "outputs": [],
   "source": [
    "# Seleciona o Campo para escolher uma nova data\n",
    "\n",
    "from selenium.webdriver.common.by import By\n",
    "\n",
    "senddata = driver.find_element_by_xpath('//span[@id=\"lblDataSelecionada\"]')\n",
    "senddata\n",
    "senddata.click()\n",
    "\n",
    "# Return X months\n",
    "for i in range(4):\n",
    "    driver.find_element(By.XPATH, '//button[@class=\"pika-prev\"]').click()\n",
    "    \n",
    "driver.find_element(By.XPATH, '//button[@class=\"pika-button pika-day\"]').click()"
   ]
  },
  {
   "cell_type": "markdown",
   "metadata": {},
   "source": [
    "## Encerra o Navegador"
   ]
  },
  {
   "cell_type": "code",
   "execution_count": null,
   "metadata": {},
   "outputs": [],
   "source": [
    "driver.quit()"
   ]
  }
 ],
 "metadata": {
  "kernelspec": {
   "display_name": "Python 3 (ipykernel)",
   "language": "python",
   "name": "python3"
  },
  "language_info": {
   "codemirror_mode": {
    "name": "ipython",
    "version": 3
   },
   "file_extension": ".py",
   "mimetype": "text/x-python",
   "name": "python",
   "nbconvert_exporter": "python",
   "pygments_lexer": "ipython3",
   "version": "3.9.12"
  },
  "toc": {
   "base_numbering": 1,
   "nav_menu": {},
   "number_sections": true,
   "sideBar": true,
   "skip_h1_title": false,
   "title_cell": "Table of Contents",
   "title_sidebar": "Contents",
   "toc_cell": false,
   "toc_position": {
    "height": "calc(100% - 180px)",
    "left": "10px",
    "top": "150px",
    "width": "297px"
   },
   "toc_section_display": true,
   "toc_window_display": true
  }
 },
 "nbformat": 4,
 "nbformat_minor": 4
}
